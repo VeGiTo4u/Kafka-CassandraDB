{
 "cells": [
  {
   "cell_type": "code",
   "execution_count": 4,
   "id": "e3a87002-164b-4b53-8c17-72d1fa8f959e",
   "metadata": {},
   "outputs": [
    {
     "name": "stdout",
     "output_type": "stream",
     "text": [
      "4.0.11.0-cea3b83ec125\n"
     ]
    }
   ],
   "source": [
    "from cassandra.cluster import Cluster\n",
    "from cassandra.auth import PlainTextAuthProvider\n",
    "import json\n",
    "\n",
    "cloud_config= {\n",
    "  'secure_connect_bundle': 'secure-connect-ecommerce-db.zip'\n",
    "}\n",
    "\n",
    "with open(\"ecommerce_db-token.json\") as f:\n",
    "    secrets = json.load(f)\n",
    "\n",
    "CLIENT_ID = secrets[\"clientId\"]\n",
    "CLIENT_SECRET = secrets[\"secret\"]\n",
    "\n",
    "auth_provider = PlainTextAuthProvider(CLIENT_ID, CLIENT_SECRET)\n",
    "cluster = Cluster(cloud=cloud_config, auth_provider=auth_provider)\n",
    "session = cluster.connect()\n",
    "\n",
    "row = session.execute(\"select release_version from system.local\").one()\n",
    "if row:\n",
    "  print(row[0])\n",
    "else:\n",
    "  print(\"An error occurred.\")"
   ]
  },
  {
   "cell_type": "code",
   "execution_count": 7,
   "id": "ea3433be-c23f-4d2b-bde1-06483918a940",
   "metadata": {},
   "outputs": [
    {
     "name": "stdout",
     "output_type": "stream",
     "text": [
      "Using Keyspace\n"
     ]
    }
   ],
   "source": [
    "try:\n",
    "    query = \"USE ecommerce_keyspace\"\n",
    "    session.execute(query)\n",
    "    print(\"Using Keyspace\")\n",
    "except Exception as err:\n",
    "    print(\"Not Using Keyspace\", err)"
   ]
  },
  {
   "cell_type": "code",
   "execution_count": 8,
   "id": "325ef32c-2b32-4492-90e6-7e8a296e96c7",
   "metadata": {},
   "outputs": [
    {
     "name": "stdout",
     "output_type": "stream",
     "text": [
      "Table created successfully\n"
     ]
    }
   ],
   "source": [
    "try:\n",
    "    table_query = \"\"\"\n",
    "    CREATE TABLE IF NOT EXISTS orders (\n",
    "        order_id uuid,\n",
    "        customer_id uuid,\n",
    "        order_status text,\n",
    "        order_purchase_timestamp timestamp,\n",
    "        order_approved_at timestamp,\n",
    "        order_delivered_carrier_date timestamp,\n",
    "        order_delivered_customer_date timestamp,\n",
    "        order_estimated_delivery_date timestamp,\n",
    "        order_hour int,\n",
    "        order_day_of_week text,\n",
    "        PRIMARY KEY ((customer_id), order_id, order_purchase_timestamp)\n",
    "    );\n",
    "    \"\"\"\n",
    "    session.execute(table_query)\n",
    "    print(\"Table created successfully\")\n",
    "except Exception as err:\n",
    "    print(\"Error creating table:\", err)"
   ]
  },
  {
   "cell_type": "code",
   "execution_count": null,
   "id": "139cfa53-bbd8-45e4-9851-47d491186f12",
   "metadata": {},
   "outputs": [],
   "source": []
  }
 ],
 "metadata": {
  "kernelspec": {
   "display_name": "Python 3 (ipykernel)",
   "language": "python",
   "name": "python3"
  },
  "language_info": {
   "codemirror_mode": {
    "name": "ipython",
    "version": 3
   },
   "file_extension": ".py",
   "mimetype": "text/x-python",
   "name": "python",
   "nbconvert_exporter": "python",
   "pygments_lexer": "ipython3",
   "version": "3.12.8"
  }
 },
 "nbformat": 4,
 "nbformat_minor": 5
}
