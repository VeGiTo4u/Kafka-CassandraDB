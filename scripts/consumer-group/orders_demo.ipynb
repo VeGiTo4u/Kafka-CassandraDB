{
 "cells": [
  {
   "cell_type": "code",
   "execution_count": 1,
   "id": "aaef97f6-a1be-4cb1-be88-56079d859d59",
   "metadata": {},
   "outputs": [
    {
     "name": "stdout",
     "output_type": "stream",
     "text": [
      "4.0.11.0-cea3b83ec125\n"
     ]
    }
   ],
   "source": [
    "from cassandra.cluster import Cluster\n",
    "from cassandra.auth import PlainTextAuthProvider\n",
    "import json\n",
    "\n",
    "cloud_config= {\n",
    "  'secure_connect_bundle': 'secure-connect-ecommerce-db.zip'\n",
    "}\n",
    "\n",
    "with open(\"ecommerce_db-token.json\") as f:\n",
    "    secrets = json.load(f)\n",
    "\n",
    "CLIENT_ID = secrets[\"clientId\"]\n",
    "CLIENT_SECRET = secrets[\"secret\"]\n",
    "\n",
    "auth_provider = PlainTextAuthProvider(CLIENT_ID, CLIENT_SECRET)\n",
    "cluster = Cluster(cloud=cloud_config, auth_provider=auth_provider)\n",
    "session = cluster.connect()\n",
    "\n",
    "row = session.execute(\"select release_version from system.local\").one()\n",
    "if row:\n",
    "  print(row[0])\n",
    "else:\n",
    "  print(\"An error occurred.\")"
   ]
  },
  {
   "cell_type": "code",
   "execution_count": 16,
   "id": "859db3f0-63d9-4590-9280-55ad59ecb940",
   "metadata": {},
   "outputs": [
    {
     "name": "stdout",
     "output_type": "stream",
     "text": [
      "\n",
      "--- Record 1 ---\n",
      "customer_id: 0361232b-f2b9-29e1-9323-dfc2843ee554\n",
      "order_id: f0dd2973-4578-caa3-db60-7e173070e2a9\n",
      "order_purchase_timestamp: 2017-09-21 15:10:47\n",
      "order_approved_at: 2017-09-21 15:25:36\n",
      "order_day_of_week: Thursday\n",
      "order_delivered_carrier_date: 2017-09-22 20:43:54\n",
      "order_delivered_customer_date: 2017-09-27 20:43:47\n",
      "order_estimated_delivery_date: 2017-10-16 00:00:00\n",
      "order_hour: 15\n",
      "order_status: delivered\n",
      "--------------------\n",
      "\n",
      "--- Record 2 ---\n",
      "customer_id: 4cc1a18d-cb64-f24b-284b-3243995340bf\n",
      "order_id: e05824bc-e3b3-c69a-0632-e8e75b1a7e9f\n",
      "order_purchase_timestamp: 2018-03-10 17:01:14\n",
      "order_approved_at: 2018-03-10 17:10:29\n",
      "order_day_of_week: Saturday\n",
      "order_delivered_carrier_date: 2018-03-12 23:07:24\n",
      "order_delivered_customer_date: 2018-03-28 19:38:33\n",
      "order_estimated_delivery_date: 2018-04-12 00:00:00\n",
      "order_hour: 17\n",
      "order_status: delivered\n",
      "--------------------\n",
      "\n",
      "--- Record 3 ---\n",
      "customer_id: b68c905a-b520-e155-e3e4-05bbf8dc1bb0\n",
      "order_id: c89f9200-f57c-5d1e-1d7a-7c6a98d45ff6\n",
      "order_purchase_timestamp: 2018-02-06 20:55:29\n",
      "order_approved_at: 2018-02-06 21:10:46\n",
      "order_day_of_week: Tuesday\n",
      "order_delivered_carrier_date: 2018-02-10 14:22:52\n",
      "order_delivered_customer_date: 2018-03-02 22:12:57\n",
      "order_estimated_delivery_date: 2018-03-05 00:00:00\n",
      "order_hour: 20\n",
      "order_status: delivered\n",
      "--------------------\n"
     ]
    }
   ],
   "source": [
    "try:\n",
    "    query = \"SELECT * FROM ecommerce_keyspace.orders LIMIT 3\"\n",
    "    rows = session.execute(query)\n",
    "\n",
    "    for i, row in enumerate(rows, start=1):\n",
    "        print(f\"\\n--- Record {i} ---\")\n",
    "        for col, val in row._asdict().items():\n",
    "            print(f\"{col}: {val}\")\n",
    "        print(\"-\" * 20)\n",
    "\n",
    "except Exception as e:\n",
    "    print(f\"Error executing query: {e}\")"
   ]
  },
  {
   "cell_type": "code",
   "execution_count": 28,
   "id": "ff722671-1968-471a-9fe4-50d065a10615",
   "metadata": {},
   "outputs": [
    {
     "name": "stdout",
     "output_type": "stream",
     "text": [
      "Total records: 99441\n"
     ]
    }
   ],
   "source": [
    "try:\n",
    "    query = \"SELECT COUNT(*) FROM ecommerce_keyspace.orders\"\n",
    "    result = session.execute(query)\n",
    "    total_records = result.one()[0]  # Fetch the count from the result\n",
    "    print(f\"Total records: {total_records}\")\n",
    "except Exception as e:\n",
    "    print(f\"Error executing query: {e}\")"
   ]
  },
  {
   "cell_type": "code",
   "execution_count": null,
   "id": "ac01dbd6-7730-42ad-b0c1-f713dba2640a",
   "metadata": {},
   "outputs": [],
   "source": []
  },
  {
   "cell_type": "code",
   "execution_count": null,
   "id": "5ea8c91c-f55f-44f0-b296-529dc5127c2a",
   "metadata": {},
   "outputs": [],
   "source": []
  }
 ],
 "metadata": {
  "kernelspec": {
   "display_name": "Python 3 (ipykernel)",
   "language": "python",
   "name": "python3"
  },
  "language_info": {
   "codemirror_mode": {
    "name": "ipython",
    "version": 3
   },
   "file_extension": ".py",
   "mimetype": "text/x-python",
   "name": "python",
   "nbconvert_exporter": "python",
   "pygments_lexer": "ipython3",
   "version": "3.12.8"
  }
 },
 "nbformat": 4,
 "nbformat_minor": 5
}
